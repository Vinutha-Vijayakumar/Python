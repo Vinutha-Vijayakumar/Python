{
 "cells": [
  {
   "cell_type": "code",
   "execution_count": 1,
   "metadata": {},
   "outputs": [
    {
     "name": "stdout",
     "output_type": "stream",
     "text": [
      "x is greater than y\n"
     ]
    }
   ],
   "source": [
    "x = 10\n",
    "y = 5\n",
    "if x > y :\n",
    "    print (\"x is greater than y\")\n"
   ]
  },
  {
   "cell_type": "code",
   "execution_count": 2,
   "metadata": {},
   "outputs": [
    {
     "name": "stdout",
     "output_type": "stream",
     "text": [
      "b is greater than a\n"
     ]
    }
   ],
   "source": [
    "a = 25\n",
    "b = 30\n",
    "if a > b :\n",
    "    print(\"a is greater than b\")\n",
    "else :\n",
    "    print(\"b is greater than a\")"
   ]
  },
  {
   "cell_type": "code",
   "execution_count": 3,
   "metadata": {},
   "outputs": [
    {
     "name": "stdout",
     "output_type": "stream",
     "text": [
      "x is equal to y\n"
     ]
    }
   ],
   "source": [
    "x = 10\n",
    "y = 10\n",
    "if x > y :\n",
    "    print (\"x is greater than y\")\n",
    "elif x == y :\n",
    "     print (\"x is equal to y\")\n",
    "else :\n",
    "    print(\"y is greater than x\")\n"
   ]
  },
  {
   "cell_type": "code",
   "execution_count": 4,
   "metadata": {},
   "outputs": [
    {
     "name": "stdout",
     "output_type": "stream",
     "text": [
      "0\n",
      "10\n",
      "20\n",
      "30\n",
      "40\n",
      "50\n",
      "60\n",
      "70\n",
      "80\n",
      "90\n",
      "100\n"
     ]
    }
   ],
   "source": [
    "#For Loops\n",
    "my_sequence = list(range(0,101,10))\n",
    "for number in my_sequence :\n",
    "    print(number)"
   ]
  },
  {
   "cell_type": "code",
   "execution_count": 5,
   "metadata": {},
   "outputs": [
    {
     "name": "stdout",
     "output_type": "stream",
     "text": [
      "50\n",
      "60\n",
      "70\n",
      "80\n",
      "90\n",
      "100\n"
     ]
    }
   ],
   "source": [
    "for number in my_sequence :\n",
    "    if number < 50 :\n",
    "        continue\n",
    "    print(number)"
   ]
  },
  {
   "cell_type": "code",
   "execution_count": 6,
   "metadata": {},
   "outputs": [
    {
     "name": "stdout",
     "output_type": "stream",
     "text": [
      "0\n",
      "10\n",
      "20\n",
      "30\n",
      "40\n",
      "50\n"
     ]
    }
   ],
   "source": [
    "for number in my_sequence :\n",
    "    if number > 50 :\n",
    "        break\n",
    "    print(number)"
   ]
  },
  {
   "cell_type": "code",
   "execution_count": 1,
   "metadata": {},
   "outputs": [
    {
     "name": "stdout",
     "output_type": "stream",
     "text": [
      "Day0\n",
      "Day1\n",
      "Day2\n",
      "Day3\n",
      "Day4\n"
     ]
    }
   ],
   "source": [
    "x = 5\n",
    "iters = 0\n",
    "while iters < x :\n",
    "    print(\"Day\" +str(iters))\n",
    "    iters = iters+ 1"
   ]
  },
  {
   "cell_type": "code",
   "execution_count": 2,
   "metadata": {},
   "outputs": [
    {
     "name": "stdout",
     "output_type": "stream",
     "text": [
      "Study\n"
     ]
    }
   ],
   "source": [
    "while True:\n",
    "    print(\"Study\")\n",
    "    break"
   ]
  },
  {
   "cell_type": "code",
   "execution_count": 3,
   "metadata": {},
   "outputs": [
    {
     "name": "stdout",
     "output_type": "stream",
     "text": [
      "[0.47962592 0.79861714 0.07451786 0.         0.         0.58264497\n",
      " 0.         0.         0.81048526 0.         0.2762436  0.83469011\n",
      " 0.50412534 0.         0.24207234 0.90166898 0.         0.\n",
      " 0.85828252 0.88992271 0.         0.16146853 0.14183188 0.\n",
      " 0.95538331]\n"
     ]
    }
   ],
   "source": [
    "import numpy as np \n",
    "my_data = np.random.uniform(-1 , 1 ,25)\n",
    "for index , number in enumerate(my_data) :\n",
    "    if number < 0 :\n",
    "        my_data[index] = 0\n",
    "\n",
    "print(my_data)"
   ]
  },
  {
   "cell_type": "code",
   "execution_count": 5,
   "metadata": {},
   "outputs": [
    {
     "name": "stdout",
     "output_type": "stream",
     "text": [
      "[0.8038179  0.         0.         0.         0.39166154 0.39682806\n",
      " 0.         0.         0.07913301 0.68147987 0.         0.61664547\n",
      " 0.         0.85446099 0.         0.         0.         0.66656244\n",
      " 0.36101509 0.19678205 0.         0.99094327 0.         0.13417035\n",
      " 0.        ]\n"
     ]
    }
   ],
   "source": [
    "my_data = np.random.uniform(-1 , 1 ,25)\n",
    "my_data = np.where(my_data < 0 ,  # A logical test\n",
    "                    0,            #value to set if the test is true\n",
    "                    my_data)      #value to set if the test is false\n",
    "\n",
    "print(my_data)"
   ]
  }
 ],
 "metadata": {
  "kernelspec": {
   "display_name": "Python 3",
   "language": "python",
   "name": "python3"
  },
  "language_info": {
   "codemirror_mode": {
    "name": "ipython",
    "version": 3
   },
   "file_extension": ".py",
   "mimetype": "text/x-python",
   "name": "python",
   "nbconvert_exporter": "python",
   "pygments_lexer": "ipython3",
   "version": "3.10.2"
  },
  "orig_nbformat": 4
 },
 "nbformat": 4,
 "nbformat_minor": 2
}
