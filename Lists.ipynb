{
 "cells": [
  {
   "cell_type": "code",
   "execution_count": 1,
   "metadata": {},
   "outputs": [
    {
     "name": "stdout",
     "output_type": "stream",
     "text": [
      "['Lesson', 5, 'is fun?', True]\n"
     ]
    }
   ],
   "source": [
    "#Lists can hold objects of different type\n",
    "my_list = [\"Lesson\", 5 , \"is fun?\", True]\n",
    "print(my_list)"
   ]
  },
  {
   "cell_type": "code",
   "execution_count": 1,
   "metadata": {},
   "outputs": [
    {
     "name": "stdout",
     "output_type": "stream",
     "text": [
      "['P', 'r', 'o', 'g', 'r', 'e', 's', 's', ' ', 'A', 'l', 'w', 'a', 'y', 's']\n"
     ]
    }
   ],
   "source": [
    "#creates a list from a string\n",
    "second_list = list(\"Progress Always\")\n",
    "print(second_list)"
   ]
  },
  {
   "cell_type": "code",
   "execution_count": 2,
   "metadata": {},
   "outputs": [
    {
     "name": "stdout",
     "output_type": "stream",
     "text": [
      "[]\n"
     ]
    }
   ],
   "source": [
    "empty_list = []\n",
    "print(empty_list)"
   ]
  },
  {
   "cell_type": "code",
   "execution_count": 3,
   "metadata": {},
   "outputs": [
    {
     "name": "stdout",
     "output_type": "stream",
     "text": [
      "[\"It's not empty now\"]\n"
     ]
    }
   ],
   "source": [
    "empty_list.append(\"It's not empty now\")\n",
    "print(empty_list)"
   ]
  },
  {
   "cell_type": "code",
   "execution_count": 5,
   "metadata": {},
   "outputs": [
    {
     "name": "stdout",
     "output_type": "stream",
     "text": [
      "['Agni', True]\n"
     ]
    }
   ],
   "source": [
    "#Remove deletes the first matching item only\n",
    "list2 = [\"Agni\", 5 , True]\n",
    "list2.remove(5)\n",
    "print(list2)"
   ]
  },
  {
   "cell_type": "code",
   "execution_count": 8,
   "metadata": {},
   "outputs": [
    {
     "name": "stdout",
     "output_type": "stream",
     "text": [
      "['Agni', True, \"It's not empty now\"]\n"
     ]
    }
   ],
   "source": [
    "combined_list = list2 + empty_list\n",
    "print(combined_list)"
   ]
  },
  {
   "cell_type": "code",
   "execution_count": 9,
   "metadata": {},
   "outputs": [
    {
     "name": "stdout",
     "output_type": "stream",
     "text": [
      "['Agni', True, \"It's not empty now\"]\n"
     ]
    }
   ],
   "source": [
    "combined_list = list2\n",
    "combined_list.extend(empty_list)\n",
    "print(combined_list)"
   ]
  },
  {
   "cell_type": "code",
   "execution_count": 10,
   "metadata": {},
   "outputs": [
    {
     "name": "stdout",
     "output_type": "stream",
     "text": [
      "5\n",
      "11\n",
      "1\n",
      "27\n",
      "5.4\n"
     ]
    }
   ],
   "source": [
    "num_list = [1,3,5,7,11]\n",
    "print( len(num_list))\n",
    "print( max(num_list))\n",
    "print( min(num_list))\n",
    "print( sum(num_list))\n",
    "print( sum(num_list)/len(num_list))"
   ]
  },
  {
   "cell_type": "code",
   "execution_count": 11,
   "metadata": {},
   "outputs": [
    {
     "data": {
      "text/plain": [
       "True"
      ]
     },
     "execution_count": 11,
     "metadata": {},
     "output_type": "execute_result"
    }
   ],
   "source": [
    "7 in num_list"
   ]
  },
  {
   "cell_type": "code",
   "execution_count": 12,
   "metadata": {},
   "outputs": [
    {
     "data": {
      "text/plain": [
       "1"
      ]
     },
     "execution_count": 12,
     "metadata": {},
     "output_type": "execute_result"
    }
   ],
   "source": [
    "#count the number of occurences\n",
    "num_list.count(5)"
   ]
  },
  {
   "cell_type": "code",
   "execution_count": 13,
   "metadata": {},
   "outputs": [
    {
     "name": "stdout",
     "output_type": "stream",
     "text": [
      "Reverse list : [45, 50, 8, 2, 99]\n",
      "Sorted list : [2, 8, 45, 50, 99]\n"
     ]
    }
   ],
   "source": [
    "a_list = [99 , 2 , 8 , 50 , 45]\n",
    "a_list.reverse()\n",
    "print(\"Reverse list :\", a_list)\n",
    "\n",
    "a_list.sort()\n",
    "print(\"Sorted list :\", a_list)"
   ]
  },
  {
   "cell_type": "code",
   "execution_count": 14,
   "metadata": {},
   "outputs": [
    {
     "name": "stdout",
     "output_type": "stream",
     "text": [
      "Example\n",
      "slicing\n",
      "indexing\n"
     ]
    }
   ],
   "source": [
    "sample_list = [\"Example\" , \"for\" , \"slicing\" , \"and\" , \"indexing\"]\n",
    "print(sample_list[0])\n",
    "print(sample_list[2])\n",
    "print(sample_list[-1])"
   ]
  },
  {
   "cell_type": "code",
   "execution_count": 16,
   "metadata": {},
   "outputs": [
    {
     "name": "stdout",
     "output_type": "stream",
     "text": [
      "4\n"
     ]
    }
   ],
   "source": [
    "nested_list = [[1,2,3] , [4,5,6] , [7,8,9]]\n",
    "print(nested_list[1][0])"
   ]
  },
  {
   "cell_type": "code",
   "execution_count": 17,
   "metadata": {},
   "outputs": [
    {
     "name": "stdout",
     "output_type": "stream",
     "text": [
      "['for', 'slicing']\n"
     ]
    }
   ],
   "source": [
    "my_slice = sample_list[1:3]\n",
    "print(my_slice)"
   ]
  },
  {
   "cell_type": "code",
   "execution_count": 18,
   "metadata": {},
   "outputs": [
    {
     "name": "stdout",
     "output_type": "stream",
     "text": [
      "['Example', 'slicing', 'indexing']\n"
     ]
    }
   ],
   "source": [
    "#using step size\n",
    "my_slice = sample_list[0:6:2]\n",
    "print(my_slice)"
   ]
  },
  {
   "cell_type": "code",
   "execution_count": 19,
   "metadata": {},
   "outputs": [
    {
     "name": "stdout",
     "output_type": "stream",
     "text": [
      "['Example', 'for', 'slicing', 'and']\n"
     ]
    }
   ],
   "source": [
    "slice1 = sample_list[:4]  #slice everything upto index 4\n",
    "print(slice1)"
   ]
  },
  {
   "cell_type": "code",
   "execution_count": 20,
   "metadata": {},
   "outputs": [
    {
     "name": "stdout",
     "output_type": "stream",
     "text": [
      "['slicing', 'and', 'indexing']\n"
     ]
    }
   ],
   "source": [
    "slice2 = sample_list[2:] #slice everything from index 2\n",
    "print(slice2)"
   ]
  },
  {
   "cell_type": "code",
   "execution_count": 21,
   "metadata": {},
   "outputs": [
    {
     "name": "stdout",
     "output_type": "stream",
     "text": [
      "['indexing', 'and']\n"
     ]
    }
   ],
   "source": [
    "#slice starting at index 4 backward to index 2\n",
    "slice3 = sample_list[4:2:-1]\n",
    "print(slice3)"
   ]
  },
  {
   "cell_type": "code",
   "execution_count": 22,
   "metadata": {},
   "outputs": [
    {
     "name": "stdout",
     "output_type": "stream",
     "text": [
      "['Example', 'for', 'slicing', 'and', 'indexing']\n"
     ]
    }
   ],
   "source": [
    "slice4 = sample_list[:]   #This slice operation copies the list\n",
    "print(slice4)"
   ]
  },
  {
   "cell_type": "code",
   "execution_count": 23,
   "metadata": {},
   "outputs": [
    {
     "name": "stdout",
     "output_type": "stream",
     "text": [
      "['indexing', 'and', 'slicing', 'for', 'Example']\n"
     ]
    }
   ],
   "source": [
    "slice5 = sample_list[::-1]   #This slice operation revers the list\n",
    "print(slice5)"
   ]
  },
  {
   "cell_type": "code",
   "execution_count": 24,
   "metadata": {},
   "outputs": [
    {
     "name": "stdout",
     "output_type": "stream",
     "text": [
      "['indexing', 'and also', 'slicing', 'for', 'Example']\n"
     ]
    }
   ],
   "source": [
    "slice5[1] = \"and also\"\n",
    "print(slice5)"
   ]
  },
  {
   "cell_type": "code",
   "execution_count": 25,
   "metadata": {},
   "outputs": [
    {
     "name": "stdout",
     "output_type": "stream",
     "text": [
      "['indexing', 'slicing', 'for', 'Example']\n"
     ]
    }
   ],
   "source": [
    "del(slice5[1])\n",
    "print(slice5)"
   ]
  },
  {
   "cell_type": "code",
   "execution_count": 26,
   "metadata": {},
   "outputs": [
    {
     "name": "stdout",
     "output_type": "stream",
     "text": [
      "Example\n",
      "['indexing', 'slicing', 'for']\n"
     ]
    }
   ],
   "source": [
    "next_item = slice5.pop()\n",
    "print(next_item)\n",
    "print(slice5)"
   ]
  },
  {
   "cell_type": "code",
   "execution_count": 27,
   "metadata": {},
   "outputs": [
    {
     "name": "stdout",
     "output_type": "stream",
     "text": [
      "[1, 2, 3, 4, 5]\n",
      "[1, 2, 3, 4]\n"
     ]
    }
   ],
   "source": [
    "listt1 = [1,2,3,4]\n",
    "listt2 = listt1.copy()\n",
    "listt1.append(5)\n",
    "print(listt1)\n",
    "print(listt2)"
   ]
  },
  {
   "cell_type": "code",
   "execution_count": 31,
   "metadata": {},
   "outputs": [
    {
     "name": "stdout",
     "output_type": "stream",
     "text": [
      "Before appending to list1:\n",
      "List2: ['List within a list', [1, 2, 3]]\n",
      "List3: ['List within a list', [1, 2, 3]] \n",
      "\n",
      "After appending to list1:\n",
      "List2: ['List within a list', [1, 2, 3, 4]]\n",
      "List3: ['List within a list', [1, 2, 3, 4]] \n",
      "\n"
     ]
    }
   ],
   "source": [
    "list1=[1,2,3]\n",
    "list2=[\"List within a list\", list1]\n",
    "list3 = list2.copy()\n",
    "print(\"Before appending to list1:\")\n",
    "print(\"List2:\", list2)\n",
    "print(\"List3:\", list3, \"\\n\")\n",
    "\n",
    "list1.append(4)\n",
    "print(\"After appending to list1:\")\n",
    "print(\"List2:\", list2)\n",
    "print(\"List3:\", list3, \"\\n\")\n"
   ]
  },
  {
   "cell_type": "code",
   "execution_count": 33,
   "metadata": {},
   "outputs": [
    {
     "name": "stdout",
     "output_type": "stream",
     "text": [
      "Before appending to list1:\n",
      "List2: ['List within a list', [1, 2, 3]]\n",
      "List3: ['List within a list', [1, 2, 3]] \n",
      "\n",
      "After appending to list1:\n",
      "List2: ['List within a list', [1, 2, 3, 4]]\n",
      "List3: ['List within a list', [1, 2, 3]] \n",
      "\n"
     ]
    }
   ],
   "source": [
    "import copy\n",
    "\n",
    "list1=[1,2,3]\n",
    "list2=[\"List within a list\", list1]\n",
    "list3 = copy.deepcopy(list2)\n",
    "print(\"Before appending to list1:\")\n",
    "print(\"List2:\", list2)\n",
    "print(\"List3:\", list3, \"\\n\")\n",
    "\n",
    "list1.append(4)\n",
    "print(\"After appending to list1:\")\n",
    "print(\"List2:\", list2)\n",
    "print(\"List3:\", list3, \"\\n\")\n"
   ]
  }
 ],
 "metadata": {
  "kernelspec": {
   "display_name": "Python 3",
   "language": "python",
   "name": "python3"
  },
  "language_info": {
   "codemirror_mode": {
    "name": "ipython",
    "version": 3
   },
   "file_extension": ".py",
   "mimetype": "text/x-python",
   "name": "python",
   "nbconvert_exporter": "python",
   "pygments_lexer": "ipython3",
   "version": "3.10.2"
  },
  "orig_nbformat": 4
 },
 "nbformat": 4,
 "nbformat_minor": 2
}
