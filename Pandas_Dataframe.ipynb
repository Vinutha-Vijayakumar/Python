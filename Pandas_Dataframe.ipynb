{
 "cells": [
  {
   "cell_type": "code",
   "execution_count": 2,
   "metadata": {},
   "outputs": [],
   "source": [
    "import numpy as np\n",
    "import pandas as pd"
   ]
  },
  {
   "cell_type": "code",
   "execution_count": 4,
   "metadata": {},
   "outputs": [
    {
     "data": {
      "text/plain": [
       "a    2\n",
       "b    3\n",
       "c    4\n",
       "d    5\n",
       "dtype: int64"
      ]
     },
     "execution_count": 4,
     "metadata": {},
     "output_type": "execute_result"
    }
   ],
   "source": [
    "my_series = pd.Series ( data=[2,3,4,5] ,\n",
    "                        index = ['a' , 'b' , 'c' , 'd'])\n",
    "\n",
    "my_series"
   ]
  },
  {
   "cell_type": "code",
   "execution_count": 5,
   "metadata": {},
   "outputs": [
    {
     "data": {
      "text/plain": [
       "x    2\n",
       "y    5\n",
       "z    4\n",
       "a    8\n",
       "dtype: int64"
      ]
     },
     "execution_count": 5,
     "metadata": {},
     "output_type": "execute_result"
    }
   ],
   "source": [
    "my_dict = {\"x\" : 2 , \"y\" : 5 , \"z\" : 4 , \"a\" : 8}\n",
    "my_series2 = pd.Series(my_dict)\n",
    "my_series2"
   ]
  },
  {
   "cell_type": "code",
   "execution_count": 6,
   "metadata": {},
   "outputs": [
    {
     "data": {
      "text/plain": [
       "2"
      ]
     },
     "execution_count": 6,
     "metadata": {},
     "output_type": "execute_result"
    }
   ],
   "source": [
    "my_series[ \"a\"]"
   ]
  },
  {
   "cell_type": "code",
   "execution_count": 7,
   "metadata": {},
   "outputs": [
    {
     "data": {
      "text/plain": [
       "b    3\n",
       "c    4\n",
       "dtype: int64"
      ]
     },
     "execution_count": 7,
     "metadata": {},
     "output_type": "execute_result"
    }
   ],
   "source": [
    "my_series[1:3]"
   ]
  },
  {
   "cell_type": "code",
   "execution_count": 8,
   "metadata": {},
   "outputs": [
    {
     "data": {
      "text/plain": [
       "a     4\n",
       "b     6\n",
       "c     8\n",
       "d    10\n",
       "dtype: int64"
      ]
     },
     "execution_count": 8,
     "metadata": {},
     "output_type": "execute_result"
    }
   ],
   "source": [
    "my_series + my_series"
   ]
  },
  {
   "cell_type": "code",
   "execution_count": 9,
   "metadata": {},
   "outputs": [
    {
     "data": {
      "text/plain": [
       "a    10.0\n",
       "b     NaN\n",
       "c     NaN\n",
       "d     NaN\n",
       "x     NaN\n",
       "y     NaN\n",
       "z     NaN\n",
       "dtype: float64"
      ]
     },
     "execution_count": 9,
     "metadata": {},
     "output_type": "execute_result"
    }
   ],
   "source": [
    "my_series + my_series2"
   ]
  },
  {
   "cell_type": "code",
   "execution_count": 12,
   "metadata": {},
   "outputs": [
    {
     "data": {
      "text/plain": [
       "3.5"
      ]
     },
     "execution_count": 12,
     "metadata": {},
     "output_type": "execute_result"
    }
   ],
   "source": [
    "np.mean(my_series)"
   ]
  },
  {
   "cell_type": "code",
   "execution_count": 8,
   "metadata": {},
   "outputs": [
    {
     "data": {
      "text/html": [
       "<div>\n",
       "<style scoped>\n",
       "    .dataframe tbody tr th:only-of-type {\n",
       "        vertical-align: middle;\n",
       "    }\n",
       "\n",
       "    .dataframe tbody tr th {\n",
       "        vertical-align: top;\n",
       "    }\n",
       "\n",
       "    .dataframe thead th {\n",
       "        text-align: right;\n",
       "    }\n",
       "</style>\n",
       "<table border=\"1\" class=\"dataframe\">\n",
       "  <thead>\n",
       "    <tr style=\"text-align: right;\">\n",
       "      <th></th>\n",
       "      <th>name</th>\n",
       "      <th>age</th>\n",
       "      <th>weight</th>\n",
       "      <th>height</th>\n",
       "      <th>siblings</th>\n",
       "      <th>gender</th>\n",
       "    </tr>\n",
       "  </thead>\n",
       "  <tbody>\n",
       "    <tr>\n",
       "      <th>Praju</th>\n",
       "      <td>Praju</td>\n",
       "      <td>10</td>\n",
       "      <td>40</td>\n",
       "      <td>4.8</td>\n",
       "      <td>1</td>\n",
       "      <td>F</td>\n",
       "    </tr>\n",
       "    <tr>\n",
       "      <th>Uma</th>\n",
       "      <td>Uma</td>\n",
       "      <td>20</td>\n",
       "      <td>41</td>\n",
       "      <td>5.3</td>\n",
       "      <td>1</td>\n",
       "      <td>F</td>\n",
       "    </tr>\n",
       "    <tr>\n",
       "      <th>Prachi</th>\n",
       "      <td>Prachi</td>\n",
       "      <td>50</td>\n",
       "      <td>36</td>\n",
       "      <td>5.4</td>\n",
       "      <td>1</td>\n",
       "      <td>F</td>\n",
       "    </tr>\n",
       "  </tbody>\n",
       "</table>\n",
       "</div>"
      ],
      "text/plain": [
       "          name  age  weight  height  siblings gender\n",
       "Praju    Praju   10      40     4.8         1      F\n",
       "Uma        Uma   20      41     5.3         1      F\n",
       "Prachi  Prachi   50      36     5.4         1      F"
      ]
     },
     "execution_count": 8,
     "metadata": {},
     "output_type": "execute_result"
    }
   ],
   "source": [
    "import numpy as np\n",
    "import pandas as pd\n",
    "\n",
    "#create a dictionary with some different data types as  values\n",
    "my_dict = { \"name\" : [ \"Praju\" , \"Uma\" , \"Prachi\"] ,\n",
    "            \"age\" : np.array([10,20,50]) , \n",
    "            \"weight\" : (40 , 41 , 36) , \n",
    "            \"height\" : pd.Series ([4.8 , 5.3 , 5.4] ,\n",
    "                                index = [\"Praju\" , \"Uma\" , \"Prachi\"] ) , \n",
    "                \"siblings\" : 1 , \n",
    "                \"gender\" : \"F\"}\n",
    "\n",
    "df = pd. DataFrame(my_dict)            #convert the dictionary to dataframe\n",
    "df                                     #print data frame"
   ]
  },
  {
   "cell_type": "code",
   "execution_count": 19,
   "metadata": {},
   "outputs": [
    {
     "data": {
      "text/html": [
       "<div>\n",
       "<style scoped>\n",
       "    .dataframe tbody tr th:only-of-type {\n",
       "        vertical-align: middle;\n",
       "    }\n",
       "\n",
       "    .dataframe tbody tr th {\n",
       "        vertical-align: top;\n",
       "    }\n",
       "\n",
       "    .dataframe thead th {\n",
       "        text-align: right;\n",
       "    }\n",
       "</style>\n",
       "<table border=\"1\" class=\"dataframe\">\n",
       "  <thead>\n",
       "    <tr style=\"text-align: right;\">\n",
       "      <th></th>\n",
       "      <th>name</th>\n",
       "      <th>age</th>\n",
       "      <th>weight</th>\n",
       "      <th>height</th>\n",
       "      <th>siblings</th>\n",
       "      <th>gender</th>\n",
       "    </tr>\n",
       "  </thead>\n",
       "  <tbody>\n",
       "    <tr>\n",
       "      <th>0</th>\n",
       "      <td>Praju</td>\n",
       "      <td>10</td>\n",
       "      <td>40</td>\n",
       "      <td>4.8</td>\n",
       "      <td>1</td>\n",
       "      <td>F</td>\n",
       "    </tr>\n",
       "    <tr>\n",
       "      <th>1</th>\n",
       "      <td>Uma</td>\n",
       "      <td>20</td>\n",
       "      <td>41</td>\n",
       "      <td>5.3</td>\n",
       "      <td>1</td>\n",
       "      <td>F</td>\n",
       "    </tr>\n",
       "    <tr>\n",
       "      <th>2</th>\n",
       "      <td>Prachi</td>\n",
       "      <td>50</td>\n",
       "      <td>36</td>\n",
       "      <td>5.4</td>\n",
       "      <td>1</td>\n",
       "      <td>F</td>\n",
       "    </tr>\n",
       "  </tbody>\n",
       "</table>\n",
       "</div>"
      ],
      "text/plain": [
       "     name  age  weight  height  siblings gender\n",
       "0   Praju   10      40     4.8         1      F\n",
       "1     Uma   20      41     5.3         1      F\n",
       "2  Prachi   50      36     5.4         1      F"
      ]
     },
     "execution_count": 19,
     "metadata": {},
     "output_type": "execute_result"
    }
   ],
   "source": [
    "import numpy as np\n",
    "import pandas as pd\n",
    "\n",
    "#create a dictionary with some different data types as  values\n",
    "my_dict2 = { \"name\" : [ \"Praju\" , \"Uma\" , \"Prachi\"] ,\n",
    "            \"age\" : np.array([10,20,50]) , \n",
    "            \"weight\" : (40 , 41 , 36) , \n",
    "            \"height\" : [4.8 , 5.3 , 5.4] ,\n",
    "            \"siblings\" : 1 , \n",
    "            \"gender\" : \"F\" }\n",
    "\n",
    "df2 = pd. DataFrame(my_dict2)            #convert the dictionary to dataframe\n",
    "df2                                     #print data frame"
   ]
  },
  {
   "cell_type": "code",
   "execution_count": 30,
   "metadata": {},
   "outputs": [
    {
     "data": {
      "text/html": [
       "<div>\n",
       "<style scoped>\n",
       "    .dataframe tbody tr th:only-of-type {\n",
       "        vertical-align: middle;\n",
       "    }\n",
       "\n",
       "    .dataframe tbody tr th {\n",
       "        vertical-align: top;\n",
       "    }\n",
       "\n",
       "    .dataframe thead th {\n",
       "        text-align: right;\n",
       "    }\n",
       "</style>\n",
       "<table border=\"1\" class=\"dataframe\">\n",
       "  <thead>\n",
       "    <tr style=\"text-align: right;\">\n",
       "      <th></th>\n",
       "      <th>name</th>\n",
       "      <th>age</th>\n",
       "      <th>weight</th>\n",
       "      <th>height</th>\n",
       "      <th>siblings</th>\n",
       "      <th>gender</th>\n",
       "    </tr>\n",
       "  </thead>\n",
       "  <tbody>\n",
       "    <tr>\n",
       "      <th>Praju</th>\n",
       "      <td>Praju</td>\n",
       "      <td>10</td>\n",
       "      <td>40</td>\n",
       "      <td>4.8</td>\n",
       "      <td>1</td>\n",
       "      <td>F</td>\n",
       "    </tr>\n",
       "    <tr>\n",
       "      <th>Uma</th>\n",
       "      <td>Uma</td>\n",
       "      <td>20</td>\n",
       "      <td>41</td>\n",
       "      <td>5.3</td>\n",
       "      <td>1</td>\n",
       "      <td>F</td>\n",
       "    </tr>\n",
       "    <tr>\n",
       "      <th>Prachi</th>\n",
       "      <td>Prachi</td>\n",
       "      <td>50</td>\n",
       "      <td>36</td>\n",
       "      <td>5.4</td>\n",
       "      <td>1</td>\n",
       "      <td>F</td>\n",
       "    </tr>\n",
       "  </tbody>\n",
       "</table>\n",
       "</div>"
      ],
      "text/plain": [
       "          name  age  weight  height  siblings gender\n",
       "Praju    Praju   10      40     4.8         1      F\n",
       "Uma        Uma   20      41     5.3         1      F\n",
       "Prachi  Prachi   50      36     5.4         1      F"
      ]
     },
     "execution_count": 30,
     "metadata": {},
     "output_type": "execute_result"
    }
   ],
   "source": [
    "df2 = pd.DataFrame (my_dict2 , index = my_dict [\"name\"])\n",
    "df2"
   ]
  },
  {
   "cell_type": "code",
   "execution_count": 31,
   "metadata": {},
   "outputs": [
    {
     "data": {
      "text/plain": [
       "Praju     40\n",
       "Uma       41\n",
       "Prachi    36\n",
       "Name: weight, dtype: int64"
      ]
     },
     "execution_count": 31,
     "metadata": {},
     "output_type": "execute_result"
    }
   ],
   "source": [
    "#Get a column by name \n",
    "df2[\"weight\"]"
   ]
  },
  {
   "cell_type": "code",
   "execution_count": 32,
   "metadata": {},
   "outputs": [
    {
     "data": {
      "text/plain": [
       "Praju     40\n",
       "Uma       41\n",
       "Prachi    36\n",
       "Name: weight, dtype: int64"
      ]
     },
     "execution_count": 32,
     "metadata": {},
     "output_type": "execute_result"
    }
   ],
   "source": [
    "df2.weight"
   ]
  },
  {
   "cell_type": "code",
   "execution_count": 34,
   "metadata": {},
   "outputs": [
    {
     "data": {
      "text/html": [
       "<div>\n",
       "<style scoped>\n",
       "    .dataframe tbody tr th:only-of-type {\n",
       "        vertical-align: middle;\n",
       "    }\n",
       "\n",
       "    .dataframe tbody tr th {\n",
       "        vertical-align: top;\n",
       "    }\n",
       "\n",
       "    .dataframe thead th {\n",
       "        text-align: right;\n",
       "    }\n",
       "</style>\n",
       "<table border=\"1\" class=\"dataframe\">\n",
       "  <thead>\n",
       "    <tr style=\"text-align: right;\">\n",
       "      <th></th>\n",
       "      <th>age</th>\n",
       "      <th>weight</th>\n",
       "      <th>height</th>\n",
       "      <th>siblings</th>\n",
       "      <th>gender</th>\n",
       "      <th>IQ</th>\n",
       "    </tr>\n",
       "  </thead>\n",
       "  <tbody>\n",
       "    <tr>\n",
       "      <th>Praju</th>\n",
       "      <td>10</td>\n",
       "      <td>40</td>\n",
       "      <td>4.8</td>\n",
       "      <td>1</td>\n",
       "      <td>F</td>\n",
       "      <td>130</td>\n",
       "    </tr>\n",
       "    <tr>\n",
       "      <th>Uma</th>\n",
       "      <td>20</td>\n",
       "      <td>41</td>\n",
       "      <td>5.3</td>\n",
       "      <td>1</td>\n",
       "      <td>F</td>\n",
       "      <td>115</td>\n",
       "    </tr>\n",
       "    <tr>\n",
       "      <th>Prachi</th>\n",
       "      <td>50</td>\n",
       "      <td>36</td>\n",
       "      <td>5.4</td>\n",
       "      <td>1</td>\n",
       "      <td>F</td>\n",
       "      <td>105</td>\n",
       "    </tr>\n",
       "  </tbody>\n",
       "</table>\n",
       "</div>"
      ],
      "text/plain": [
       "        age  weight  height  siblings gender   IQ\n",
       "Praju    10      40     4.8         1      F  130\n",
       "Uma      20      41     5.3         1      F  115\n",
       "Prachi   50      36     5.4         1      F  105"
      ]
     },
     "execution_count": 34,
     "metadata": {},
     "output_type": "execute_result"
    }
   ],
   "source": [
    "#Delete a column\n",
    "del df2['name']\n",
    "df2"
   ]
  },
  {
   "cell_type": "code",
   "execution_count": 35,
   "metadata": {},
   "outputs": [
    {
     "data": {
      "text/html": [
       "<div>\n",
       "<style scoped>\n",
       "    .dataframe tbody tr th:only-of-type {\n",
       "        vertical-align: middle;\n",
       "    }\n",
       "\n",
       "    .dataframe tbody tr th {\n",
       "        vertical-align: top;\n",
       "    }\n",
       "\n",
       "    .dataframe thead th {\n",
       "        text-align: right;\n",
       "    }\n",
       "</style>\n",
       "<table border=\"1\" class=\"dataframe\">\n",
       "  <thead>\n",
       "    <tr style=\"text-align: right;\">\n",
       "      <th></th>\n",
       "      <th>age</th>\n",
       "      <th>weight</th>\n",
       "      <th>height</th>\n",
       "      <th>siblings</th>\n",
       "      <th>gender</th>\n",
       "      <th>IQ</th>\n",
       "    </tr>\n",
       "  </thead>\n",
       "  <tbody>\n",
       "    <tr>\n",
       "      <th>Praju</th>\n",
       "      <td>10</td>\n",
       "      <td>40</td>\n",
       "      <td>4.8</td>\n",
       "      <td>1</td>\n",
       "      <td>F</td>\n",
       "      <td>130</td>\n",
       "    </tr>\n",
       "    <tr>\n",
       "      <th>Uma</th>\n",
       "      <td>20</td>\n",
       "      <td>41</td>\n",
       "      <td>5.3</td>\n",
       "      <td>1</td>\n",
       "      <td>F</td>\n",
       "      <td>115</td>\n",
       "    </tr>\n",
       "    <tr>\n",
       "      <th>Prachi</th>\n",
       "      <td>50</td>\n",
       "      <td>36</td>\n",
       "      <td>5.4</td>\n",
       "      <td>1</td>\n",
       "      <td>F</td>\n",
       "      <td>105</td>\n",
       "    </tr>\n",
       "  </tbody>\n",
       "</table>\n",
       "</div>"
      ],
      "text/plain": [
       "        age  weight  height  siblings gender   IQ\n",
       "Praju    10      40     4.8         1      F  130\n",
       "Uma      20      41     5.3         1      F  115\n",
       "Prachi   50      36     5.4         1      F  105"
      ]
     },
     "execution_count": 35,
     "metadata": {},
     "output_type": "execute_result"
    }
   ],
   "source": [
    "#Add a new column\n",
    "df2[\"IQ\"] = [130 , 115, 105]\n",
    "df2"
   ]
  },
  {
   "cell_type": "code",
   "execution_count": 36,
   "metadata": {},
   "outputs": [
    {
     "data": {
      "text/html": [
       "<div>\n",
       "<style scoped>\n",
       "    .dataframe tbody tr th:only-of-type {\n",
       "        vertical-align: middle;\n",
       "    }\n",
       "\n",
       "    .dataframe tbody tr th {\n",
       "        vertical-align: top;\n",
       "    }\n",
       "\n",
       "    .dataframe thead th {\n",
       "        text-align: right;\n",
       "    }\n",
       "</style>\n",
       "<table border=\"1\" class=\"dataframe\">\n",
       "  <thead>\n",
       "    <tr style=\"text-align: right;\">\n",
       "      <th></th>\n",
       "      <th>age</th>\n",
       "      <th>weight</th>\n",
       "      <th>height</th>\n",
       "      <th>siblings</th>\n",
       "      <th>gender</th>\n",
       "      <th>IQ</th>\n",
       "      <th>Married</th>\n",
       "    </tr>\n",
       "  </thead>\n",
       "  <tbody>\n",
       "    <tr>\n",
       "      <th>Praju</th>\n",
       "      <td>10</td>\n",
       "      <td>40</td>\n",
       "      <td>4.8</td>\n",
       "      <td>1</td>\n",
       "      <td>F</td>\n",
       "      <td>130</td>\n",
       "      <td>False</td>\n",
       "    </tr>\n",
       "    <tr>\n",
       "      <th>Uma</th>\n",
       "      <td>20</td>\n",
       "      <td>41</td>\n",
       "      <td>5.3</td>\n",
       "      <td>1</td>\n",
       "      <td>F</td>\n",
       "      <td>115</td>\n",
       "      <td>False</td>\n",
       "    </tr>\n",
       "    <tr>\n",
       "      <th>Prachi</th>\n",
       "      <td>50</td>\n",
       "      <td>36</td>\n",
       "      <td>5.4</td>\n",
       "      <td>1</td>\n",
       "      <td>F</td>\n",
       "      <td>105</td>\n",
       "      <td>False</td>\n",
       "    </tr>\n",
       "  </tbody>\n",
       "</table>\n",
       "</div>"
      ],
      "text/plain": [
       "        age  weight  height  siblings gender   IQ  Married\n",
       "Praju    10      40     4.8         1      F  130    False\n",
       "Uma      20      41     5.3         1      F  115    False\n",
       "Prachi   50      36     5.4         1      F  105    False"
      ]
     },
     "execution_count": 36,
     "metadata": {},
     "output_type": "execute_result"
    }
   ],
   "source": [
    "df2[\"Married\"] = False\n",
    "df2"
   ]
  },
  {
   "cell_type": "code",
   "execution_count": 37,
   "metadata": {},
   "outputs": [
    {
     "data": {
      "text/html": [
       "<div>\n",
       "<style scoped>\n",
       "    .dataframe tbody tr th:only-of-type {\n",
       "        vertical-align: middle;\n",
       "    }\n",
       "\n",
       "    .dataframe tbody tr th {\n",
       "        vertical-align: top;\n",
       "    }\n",
       "\n",
       "    .dataframe thead th {\n",
       "        text-align: right;\n",
       "    }\n",
       "</style>\n",
       "<table border=\"1\" class=\"dataframe\">\n",
       "  <thead>\n",
       "    <tr style=\"text-align: right;\">\n",
       "      <th></th>\n",
       "      <th>age</th>\n",
       "      <th>weight</th>\n",
       "      <th>height</th>\n",
       "      <th>siblings</th>\n",
       "      <th>gender</th>\n",
       "      <th>IQ</th>\n",
       "      <th>Married</th>\n",
       "      <th>college</th>\n",
       "    </tr>\n",
       "  </thead>\n",
       "  <tbody>\n",
       "    <tr>\n",
       "      <th>Praju</th>\n",
       "      <td>10</td>\n",
       "      <td>40</td>\n",
       "      <td>4.8</td>\n",
       "      <td>1</td>\n",
       "      <td>F</td>\n",
       "      <td>130</td>\n",
       "      <td>False</td>\n",
       "      <td>NaN</td>\n",
       "    </tr>\n",
       "    <tr>\n",
       "      <th>Uma</th>\n",
       "      <td>20</td>\n",
       "      <td>41</td>\n",
       "      <td>5.3</td>\n",
       "      <td>1</td>\n",
       "      <td>F</td>\n",
       "      <td>115</td>\n",
       "      <td>False</td>\n",
       "      <td>Harvard</td>\n",
       "    </tr>\n",
       "    <tr>\n",
       "      <th>Prachi</th>\n",
       "      <td>50</td>\n",
       "      <td>36</td>\n",
       "      <td>5.4</td>\n",
       "      <td>1</td>\n",
       "      <td>F</td>\n",
       "      <td>105</td>\n",
       "      <td>False</td>\n",
       "      <td>NaN</td>\n",
       "    </tr>\n",
       "  </tbody>\n",
       "</table>\n",
       "</div>"
      ],
      "text/plain": [
       "        age  weight  height  siblings gender   IQ  Married  college\n",
       "Praju    10      40     4.8         1      F  130    False      NaN\n",
       "Uma      20      41     5.3         1      F  115    False  Harvard\n",
       "Prachi   50      36     5.4         1      F  105    False      NaN"
      ]
     },
     "execution_count": 37,
     "metadata": {},
     "output_type": "execute_result"
    }
   ],
   "source": [
    "df2[\"college\"] = pd.Series ([\"Harvard\"] , index = [\"Uma\"])\n",
    "df2"
   ]
  },
  {
   "cell_type": "code",
   "execution_count": 38,
   "metadata": {},
   "outputs": [
    {
     "data": {
      "text/plain": [
       "age            50\n",
       "weight         36\n",
       "height        5.4\n",
       "siblings        1\n",
       "gender          F\n",
       "IQ            105\n",
       "Married     False\n",
       "college       NaN\n",
       "Name: Prachi, dtype: object"
      ]
     },
     "execution_count": 38,
     "metadata": {},
     "output_type": "execute_result"
    }
   ],
   "source": [
    "df2.loc[\"Prachi\"]"
   ]
  },
  {
   "cell_type": "code",
   "execution_count": 39,
   "metadata": {},
   "outputs": [
    {
     "data": {
      "text/plain": [
       "105"
      ]
     },
     "execution_count": 39,
     "metadata": {},
     "output_type": "execute_result"
    }
   ],
   "source": [
    "df2.loc[\"Prachi\" , \"IQ\"]"
   ]
  },
  {
   "cell_type": "code",
   "execution_count": 40,
   "metadata": {},
   "outputs": [
    {
     "data": {
      "text/html": [
       "<div>\n",
       "<style scoped>\n",
       "    .dataframe tbody tr th:only-of-type {\n",
       "        vertical-align: middle;\n",
       "    }\n",
       "\n",
       "    .dataframe tbody tr th {\n",
       "        vertical-align: top;\n",
       "    }\n",
       "\n",
       "    .dataframe thead th {\n",
       "        text-align: right;\n",
       "    }\n",
       "</style>\n",
       "<table border=\"1\" class=\"dataframe\">\n",
       "  <thead>\n",
       "    <tr style=\"text-align: right;\">\n",
       "      <th></th>\n",
       "      <th>IQ</th>\n",
       "      <th>Married</th>\n",
       "      <th>college</th>\n",
       "    </tr>\n",
       "  </thead>\n",
       "  <tbody>\n",
       "    <tr>\n",
       "      <th>Praju</th>\n",
       "      <td>130</td>\n",
       "      <td>False</td>\n",
       "      <td>NaN</td>\n",
       "    </tr>\n",
       "    <tr>\n",
       "      <th>Uma</th>\n",
       "      <td>115</td>\n",
       "      <td>False</td>\n",
       "      <td>Harvard</td>\n",
       "    </tr>\n",
       "  </tbody>\n",
       "</table>\n",
       "</div>"
      ],
      "text/plain": [
       "        IQ  Married  college\n",
       "Praju  130    False      NaN\n",
       "Uma    115    False  Harvard"
      ]
     },
     "execution_count": 40,
     "metadata": {},
     "output_type": "execute_result"
    }
   ],
   "source": [
    "df2.loc[\"Praju\" : \"Uma\" , \"IQ\" : \"college\"]"
   ]
  },
  {
   "cell_type": "code",
   "execution_count": 41,
   "metadata": {},
   "outputs": [
    {
     "data": {
      "text/plain": [
       "age            10\n",
       "weight         40\n",
       "height        4.8\n",
       "siblings        1\n",
       "gender          F\n",
       "IQ            130\n",
       "Married     False\n",
       "college       NaN\n",
       "Name: Praju, dtype: object"
      ]
     },
     "execution_count": 41,
     "metadata": {},
     "output_type": "execute_result"
    }
   ],
   "source": [
    "df2.iloc[0]"
   ]
  },
  {
   "cell_type": "code",
   "execution_count": 42,
   "metadata": {},
   "outputs": [
    {
     "data": {
      "text/plain": [
       "130"
      ]
     },
     "execution_count": 42,
     "metadata": {},
     "output_type": "execute_result"
    }
   ],
   "source": [
    "df2.iloc[0,5]"
   ]
  },
  {
   "cell_type": "code",
   "execution_count": 43,
   "metadata": {},
   "outputs": [
    {
     "data": {
      "text/html": [
       "<div>\n",
       "<style scoped>\n",
       "    .dataframe tbody tr th:only-of-type {\n",
       "        vertical-align: middle;\n",
       "    }\n",
       "\n",
       "    .dataframe tbody tr th {\n",
       "        vertical-align: top;\n",
       "    }\n",
       "\n",
       "    .dataframe thead th {\n",
       "        text-align: right;\n",
       "    }\n",
       "</style>\n",
       "<table border=\"1\" class=\"dataframe\">\n",
       "  <thead>\n",
       "    <tr style=\"text-align: right;\">\n",
       "      <th></th>\n",
       "      <th>IQ</th>\n",
       "      <th>Married</th>\n",
       "      <th>college</th>\n",
       "    </tr>\n",
       "  </thead>\n",
       "  <tbody>\n",
       "    <tr>\n",
       "      <th>Praju</th>\n",
       "      <td>130</td>\n",
       "      <td>False</td>\n",
       "      <td>NaN</td>\n",
       "    </tr>\n",
       "    <tr>\n",
       "      <th>Uma</th>\n",
       "      <td>115</td>\n",
       "      <td>False</td>\n",
       "      <td>Harvard</td>\n",
       "    </tr>\n",
       "  </tbody>\n",
       "</table>\n",
       "</div>"
      ],
      "text/plain": [
       "        IQ  Married  college\n",
       "Praju  130    False      NaN\n",
       "Uma    115    False  Harvard"
      ]
     },
     "execution_count": 43,
     "metadata": {},
     "output_type": "execute_result"
    }
   ],
   "source": [
    "df2.iloc[0:2 , 5:8]"
   ]
  },
  {
   "cell_type": "code",
   "execution_count": 45,
   "metadata": {},
   "outputs": [
    {
     "data": {
      "text/html": [
       "<div>\n",
       "<style scoped>\n",
       "    .dataframe tbody tr th:only-of-type {\n",
       "        vertical-align: middle;\n",
       "    }\n",
       "\n",
       "    .dataframe tbody tr th {\n",
       "        vertical-align: top;\n",
       "    }\n",
       "\n",
       "    .dataframe thead th {\n",
       "        text-align: right;\n",
       "    }\n",
       "</style>\n",
       "<table border=\"1\" class=\"dataframe\">\n",
       "  <thead>\n",
       "    <tr style=\"text-align: right;\">\n",
       "      <th></th>\n",
       "      <th>age</th>\n",
       "      <th>weight</th>\n",
       "      <th>height</th>\n",
       "      <th>siblings</th>\n",
       "      <th>gender</th>\n",
       "      <th>IQ</th>\n",
       "      <th>Married</th>\n",
       "      <th>college</th>\n",
       "    </tr>\n",
       "  </thead>\n",
       "  <tbody>\n",
       "    <tr>\n",
       "      <th>Uma</th>\n",
       "      <td>20</td>\n",
       "      <td>41</td>\n",
       "      <td>5.3</td>\n",
       "      <td>1</td>\n",
       "      <td>F</td>\n",
       "      <td>115</td>\n",
       "      <td>False</td>\n",
       "      <td>Harvard</td>\n",
       "    </tr>\n",
       "    <tr>\n",
       "      <th>Prachi</th>\n",
       "      <td>50</td>\n",
       "      <td>36</td>\n",
       "      <td>5.4</td>\n",
       "      <td>1</td>\n",
       "      <td>F</td>\n",
       "      <td>105</td>\n",
       "      <td>False</td>\n",
       "      <td>NaN</td>\n",
       "    </tr>\n",
       "  </tbody>\n",
       "</table>\n",
       "</div>"
      ],
      "text/plain": [
       "        age  weight  height  siblings gender   IQ  Married  college\n",
       "Uma      20      41     5.3         1      F  115    False  Harvard\n",
       "Prachi   50      36     5.4         1      F  105    False      NaN"
      ]
     },
     "execution_count": 45,
     "metadata": {},
     "output_type": "execute_result"
    }
   ],
   "source": [
    "boolean_index = [False , True , True]\n",
    "df2[boolean_index]"
   ]
  },
  {
   "cell_type": "code",
   "execution_count": 46,
   "metadata": {},
   "outputs": [
    {
     "data": {
      "text/html": [
       "<div>\n",
       "<style scoped>\n",
       "    .dataframe tbody tr th:only-of-type {\n",
       "        vertical-align: middle;\n",
       "    }\n",
       "\n",
       "    .dataframe tbody tr th {\n",
       "        vertical-align: top;\n",
       "    }\n",
       "\n",
       "    .dataframe thead th {\n",
       "        text-align: right;\n",
       "    }\n",
       "</style>\n",
       "<table border=\"1\" class=\"dataframe\">\n",
       "  <thead>\n",
       "    <tr style=\"text-align: right;\">\n",
       "      <th></th>\n",
       "      <th>age</th>\n",
       "      <th>weight</th>\n",
       "      <th>height</th>\n",
       "      <th>siblings</th>\n",
       "      <th>gender</th>\n",
       "      <th>IQ</th>\n",
       "      <th>Married</th>\n",
       "      <th>college</th>\n",
       "    </tr>\n",
       "  </thead>\n",
       "  <tbody>\n",
       "    <tr>\n",
       "      <th>Uma</th>\n",
       "      <td>20</td>\n",
       "      <td>41</td>\n",
       "      <td>5.3</td>\n",
       "      <td>1</td>\n",
       "      <td>F</td>\n",
       "      <td>115</td>\n",
       "      <td>False</td>\n",
       "      <td>Harvard</td>\n",
       "    </tr>\n",
       "    <tr>\n",
       "      <th>Prachi</th>\n",
       "      <td>50</td>\n",
       "      <td>36</td>\n",
       "      <td>5.4</td>\n",
       "      <td>1</td>\n",
       "      <td>F</td>\n",
       "      <td>105</td>\n",
       "      <td>False</td>\n",
       "      <td>NaN</td>\n",
       "    </tr>\n",
       "  </tbody>\n",
       "</table>\n",
       "</div>"
      ],
      "text/plain": [
       "        age  weight  height  siblings gender   IQ  Married  college\n",
       "Uma      20      41     5.3         1      F  115    False  Harvard\n",
       "Prachi   50      36     5.4         1      F  105    False      NaN"
      ]
     },
     "execution_count": 46,
     "metadata": {},
     "output_type": "execute_result"
    }
   ],
   "source": [
    "boolean_index = df2[\"age\"]>12\n",
    "df2[boolean_index]"
   ]
  },
  {
   "cell_type": "code",
   "execution_count": 48,
   "metadata": {},
   "outputs": [
    {
     "data": {
      "text/html": [
       "<div>\n",
       "<style scoped>\n",
       "    .dataframe tbody tr th:only-of-type {\n",
       "        vertical-align: middle;\n",
       "    }\n",
       "\n",
       "    .dataframe tbody tr th {\n",
       "        vertical-align: top;\n",
       "    }\n",
       "\n",
       "    .dataframe thead th {\n",
       "        text-align: right;\n",
       "    }\n",
       "</style>\n",
       "<table border=\"1\" class=\"dataframe\">\n",
       "  <thead>\n",
       "    <tr style=\"text-align: right;\">\n",
       "      <th></th>\n",
       "      <th>age</th>\n",
       "      <th>weight</th>\n",
       "      <th>height</th>\n",
       "      <th>siblings</th>\n",
       "      <th>gender</th>\n",
       "      <th>IQ</th>\n",
       "      <th>Married</th>\n",
       "      <th>college</th>\n",
       "    </tr>\n",
       "  </thead>\n",
       "  <tbody>\n",
       "    <tr>\n",
       "      <th>Uma</th>\n",
       "      <td>20</td>\n",
       "      <td>41</td>\n",
       "      <td>5.3</td>\n",
       "      <td>1</td>\n",
       "      <td>F</td>\n",
       "      <td>115</td>\n",
       "      <td>False</td>\n",
       "      <td>Harvard</td>\n",
       "    </tr>\n",
       "    <tr>\n",
       "      <th>Prachi</th>\n",
       "      <td>50</td>\n",
       "      <td>36</td>\n",
       "      <td>5.4</td>\n",
       "      <td>1</td>\n",
       "      <td>F</td>\n",
       "      <td>105</td>\n",
       "      <td>False</td>\n",
       "      <td>NaN</td>\n",
       "    </tr>\n",
       "  </tbody>\n",
       "</table>\n",
       "</div>"
      ],
      "text/plain": [
       "        age  weight  height  siblings gender   IQ  Married  college\n",
       "Uma      20      41     5.3         1      F  115    False  Harvard\n",
       "Prachi   50      36     5.4         1      F  105    False      NaN"
      ]
     },
     "execution_count": 48,
     "metadata": {},
     "output_type": "execute_result"
    }
   ],
   "source": [
    "df2 [ df2[\"age\"] > 12]\n"
   ]
  }
 ],
 "metadata": {
  "kernelspec": {
   "display_name": "Python 3",
   "language": "python",
   "name": "python3"
  },
  "language_info": {
   "codemirror_mode": {
    "name": "ipython",
    "version": 3
   },
   "file_extension": ".py",
   "mimetype": "text/x-python",
   "name": "python",
   "nbconvert_exporter": "python",
   "pygments_lexer": "ipython3",
   "version": "3.10.2"
  },
  "orig_nbformat": 4
 },
 "nbformat": 4,
 "nbformat_minor": 2
}
